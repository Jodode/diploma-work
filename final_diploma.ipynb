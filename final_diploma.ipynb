{
 "cells": [
  {
   "cell_type": "code",
   "execution_count": 1,
   "metadata": {},
   "outputs": [],
   "source": [
    "%load_ext autoreload\n",
    "%autoreload 2"
   ]
  },
  {
   "cell_type": "markdown",
   "metadata": {},
   "source": [
    "# Imports"
   ]
  },
  {
   "cell_type": "code",
   "execution_count": 2,
   "metadata": {},
   "outputs": [],
   "source": [
    "import pandas as pd\n",
    "import numpy as np\n",
    "from scipy import special, stats\n",
    "\n",
    "from optbinning import OptimalBinning\n",
    "\n",
    "from sklearn.model_selection import StratifiedKFold, train_test_split\n",
    "# from sklearn.linear_model import LogisticRegression\n",
    "from sklearn.metrics import roc_auc_score\n",
    "import sklearn as sci_kit\n",
    "\n",
    "from lightgbm import LGBMClassifier\n",
    "import lightgbm as lgb\n",
    "\n",
    "import optuna\n",
    "\n",
    "from itertools import combinations\n",
    "\n",
    "from tqdm.auto import tqdm\n",
    "\n",
    "import plotly.graph_objects as go\n",
    "import plotly.express as px\n",
    "from plotly.subplots import make_subplots\n",
    "\n",
    "from shap import TreeExplainer\n",
    "\n",
    "# import random\n",
    "\n",
    "# import cloudpickle\n",
    "\n",
    "import warnings\n",
    "warnings.filterwarnings('ignore')"
   ]
  },
  {
   "cell_type": "code",
   "execution_count": 3,
   "metadata": {},
   "outputs": [
    {
     "name": "stdout",
     "output_type": "stream",
     "text": [
      "Pandas version: 2.2.3\n",
      "Numpy version: 2.2.5\n"
     ]
    }
   ],
   "source": [
    "print('Pandas version:', pd.__version__)\n",
    "print('Numpy version:', np.__version__)\n",
    "# print('Scikit-learn version:', sci_kit.__version__)\n",
    "# print('LightGBM version:', lgb.__version__)\n",
    "# print('Optuna version:', optuna.__version__)"
   ]
  },
  {
   "cell_type": "markdown",
   "metadata": {},
   "source": [
    "# Configuration"
   ]
  },
  {
   "cell_type": "code",
   "execution_count": 4,
   "metadata": {},
   "outputs": [],
   "source": [
    "class CONFIG:\n",
    "    TARGET_COLUMN = 'target'\n",
    "    TEST_SIZE = 0.25\n",
    "    TRAIN_SIZE = 1 - TEST_SIZE\n",
    "\n",
    "    RANDOM_STATE = 42\n",
    "    N_FOLDS = 5"
   ]
  },
  {
   "cell_type": "markdown",
   "metadata": {},
   "source": [
    "# Additional functions"
   ]
  },
  {
   "cell_type": "markdown",
   "metadata": {},
   "source": [
    "## PSI"
   ]
  },
  {
   "cell_type": "code",
   "execution_count": 5,
   "metadata": {},
   "outputs": [],
   "source": [
    "def count_psi(current, previous):\n",
    "    return np.sum((current - previous) * np.log(current / previous))\n",
    "\n",
    "def custom_psi_check(df_orig, col, year_current=2017, year_previous=2016):\n",
    "    df = df_orig.copy()\n",
    "    df.set_index('month_period', inplace=True)\n",
    "    psi_array = []\n",
    "    for month in range(1, 13):\n",
    "        ref = f'{year_previous}-{month:02d}'\n",
    "        tag = f'{year_current}-{month:02d}'\n",
    "        ref_tag_index = [ref, tag]\n",
    "        df_r = df.loc[ref_tag_index]\n",
    "        if df_r[col].dtype.name != 'category':\n",
    "            quantiles = [-np.inf, ] + sorted(list(map(float, set(df_r.loc[ref][col].quantile([0.2, 0.4, 0.6, 0.8]).values))))+ [np.inf]\n",
    "            df_r[f'{col}_cut'] = pd.cut(df_r[col], bins=quantiles)\n",
    "            df_r[f'{col}_cut'] = df_r[f'{col}_cut'].cat.add_categories(['Missing']).fillna('Missing')\n",
    "        else:\n",
    "            if df_r[col].isna().sum() > 0:\n",
    "                df_r[f'{col}_cut'] = df_r[col].astype('object').fillna('Missing').astype('category')\n",
    "            else:\n",
    "                df_r[f'{col}_cut'] = df_r[col].copy()\n",
    "        \n",
    "        df_r = df_r.reset_index()\n",
    "        count_table = df_r.groupby(['month_period', f'{col}_cut']).count().unstack(-1)[col]\n",
    "        devided_table = count_table.div(count_table.sum(axis=1), axis=0)\n",
    "        devided_table.fillna(0, inplace=True)\n",
    "        devided_table.replace(0, 1e-7, inplace=True)\n",
    "        devided_table.sort_index(inplace=True)\n",
    "        last_row = devided_table.iloc[0, :]\n",
    "        psi_array.append(float(devided_table.apply(lambda x: count_psi(last_row, x), axis=1).loc[tag]))\n",
    "    return psi_array\n",
    "    "
   ]
  },
  {
   "cell_type": "markdown",
   "metadata": {},
   "source": [
    "## Correlation"
   ]
  },
  {
   "cell_type": "code",
   "execution_count": 6,
   "metadata": {},
   "outputs": [],
   "source": [
    "def cramers_v(x, y):\n",
    "    confusion_matrix = pd.crosstab(x, y)\n",
    "    chi2, p_value, _, _ = stats.chi2_contingency(confusion_matrix)\n",
    "    n = confusion_matrix.sum().sum()\n",
    "    phi2 = chi2 / n\n",
    "    r, k = confusion_matrix.shape\n",
    "    phi2_corrected = max(0, phi2 - ((k - 1) * (r - 1)) / (n - 1))\n",
    "    r_corr = r - ((r - 1) ** 2) / (n - 1)\n",
    "    k_corr = k - ((k - 1) ** 2) / (n - 1)\n",
    "    return np.sqrt(phi2_corrected / min(r_corr - 1, k_corr - 1)), p_value\n",
    "\n",
    "def check_corr(df, mode='pearson'):\n",
    "    if mode == 'pearson':\n",
    "        df_ = df.select_dtypes('number')\n",
    "        correlation_matrix = pd.DataFrame(\n",
    "            np.ones((len(df_.columns), len(df_.columns))), \n",
    "            index=df_.columns, \n",
    "            columns=df_.columns\n",
    "        )\n",
    "        for (x, X), (y, Y) in combinations(df_.items(), 2):\n",
    "            mask = (~X.isna()) & (~Y.isna())\n",
    "            Xc = X[mask]\n",
    "            Yc = Y[mask]\n",
    "            r_obs, p_value = stats.pearsonr(Xc, Yc)\n",
    "            if p_value < 0.05:\n",
    "                correlation_matrix.loc[x, y] = correlation_matrix.loc[y, x] = r_obs\n",
    "            else:\n",
    "                correlation_matrix.loc[x, y] = correlation_matrix.loc[y, x] = 0\n",
    "        return correlation_matrix\n",
    "    elif mode == 'spearman':\n",
    "        df_ = df.select_dtypes('number')\n",
    "        correlation_matrix = pd.DataFrame(\n",
    "            np.ones((len(df_.columns), len(df_.columns))), \n",
    "            index=df_.columns, \n",
    "            columns=df_.columns\n",
    "        )\n",
    "        for (x, X), (y, Y) in combinations(df_.items(), 2):\n",
    "            mask = (~X.isna()) & (~Y.isna())\n",
    "            Xc = X[mask]\n",
    "            Yc = Y[mask]\n",
    "            r_obs, p_value = stats.spearmanr(Xc, Yc)\n",
    "            if p_value < 0.05:\n",
    "                correlation_matrix.loc[x, y] = correlation_matrix.loc[y, x] = r_obs\n",
    "            else:\n",
    "                correlation_matrix.loc[x, y] = correlation_matrix.loc[y, x] = 0\n",
    "        return correlation_matrix\n",
    "    elif mode == 'cramer_v':\n",
    "        df_ = df.select_dtypes(['object', 'category'])\n",
    "        correlation_matrix = pd.DataFrame(\n",
    "            np.ones((len(df_.columns), len(df_.columns))), \n",
    "            index=df_.columns, \n",
    "            columns=df_.columns\n",
    "        )\n",
    "        for (x, X), (y, Y) in combinations(df_.items(), 2):\n",
    "            mask = (~X.isna()) & (~Y.isna())\n",
    "            Xc = X[mask]\n",
    "            Yc = Y[mask]\n",
    "            cramer_v, p_value = cramers_v(Xc, Yc)\n",
    "            if p_value < 0.05:\n",
    "                correlation_matrix.loc[x, y] = correlation_matrix.loc[y, x] = cramer_v\n",
    "            else:\n",
    "                correlation_matrix.loc[x, y] = correlation_matrix.loc[y, x] = 0\n",
    "        return correlation_matrix\n",
    "    "
   ]
  },
  {
   "cell_type": "markdown",
   "metadata": {},
   "source": [
    "## Shap explainer"
   ]
  },
  {
   "cell_type": "code",
   "execution_count": 7,
   "metadata": {},
   "outputs": [],
   "source": [
    "def _shap_importances(model, X):\n",
    "    explainer = TreeExplainer(\n",
    "        model,\n",
    "        feature_perturbation='tree_path_dependent',\n",
    "    )\n",
    "    coefs = explainer.shap_values(X)\n",
    "\n",
    "    if isinstance(coefs, list):\n",
    "        coefs = list(map(lambda x: np.abs(x).mean(0), coefs))\n",
    "        coefs = np.sum(coefs, axis=0)\n",
    "    else:\n",
    "        coefs = np.abs(coefs).mean(0)\n",
    "\n",
    "    return coefs\n"
   ]
  },
  {
   "cell_type": "markdown",
   "metadata": {},
   "source": [
    "# Data"
   ]
  },
  {
   "cell_type": "code",
   "execution_count": 8,
   "metadata": {},
   "outputs": [],
   "source": [
    "data = pd.read_parquet('loans_individual_data.parquet')"
   ]
  },
  {
   "cell_type": "code",
   "execution_count": 9,
   "metadata": {},
   "outputs": [],
   "source": [
    "data['issue_d'] = pd.to_datetime(data['issue_d'], format='%b-%Y')"
   ]
  },
  {
   "cell_type": "code",
   "execution_count": 10,
   "metadata": {},
   "outputs": [],
   "source": [
    "data['id'] = data['id'].astype(int)\n",
    "\n",
    "data['earliest_cr_line'] = pd.to_datetime(data['earliest_cr_line'], format='%b-%Y')\n",
    "data['last_pymnt_d'] = pd.to_datetime(data['last_pymnt_d'], format='%b-%Y')\n",
    "data['last_credit_pull_d'] = pd.to_datetime(data['last_credit_pull_d'], format='%b-%Y')\n",
    "\n",
    "data['int_rate%']= pd.to_numeric(data['int_rate'].str.strip('%'))\n",
    "data['revol_util%'] = pd.to_numeric(data['revol_util'].str.strip('%'))\n",
    "\n",
    "columns_to_drop = [\n",
    "    'Unnamed: 0', 'title', 'zip_code', 'pymnt_plan', 'emp_title', 'int_rate', 'revol_util', 'url', \n",
    "    'fico_range_high', 'fico_range_low', 'grade', 'sub_grade', 'loan_amnt', 'funded_amnt', 'funded_amnt_inv'\n",
    "]\n",
    "data.drop(columns=columns_to_drop, inplace=True)\n",
    "\n",
    "data['term_36_months'] = np.where(data['term'] == '36 months',1,0)\n",
    "data.drop(columns=['term', ], inplace=True)\n",
    "\n",
    "data['emp_length'].fillna('', inplace=True)\n",
    "data['emp_length'] = pd.to_numeric(data['emp_length'].str.replace('<', '', regex=False).str[:2].str.strip(), errors='coerce')\n",
    "\n",
    "data = data.apply(lambda col: col.str.strip().astype('category') if col.dtypes == 'object' else col)\n",
    "\n",
    "loan_status_mapping = {\n",
    "    'Fully Paid': 0,\n",
    "    'Current': 0,\n",
    "    'In Grace Period': 0,\n",
    "    'Late (16-30 days)': 0,\n",
    "    'Late (31-120 days)': 1,\n",
    "    'Charged Off': 1,\n",
    "    'Default': 1\n",
    "}\n",
    "\n",
    "data[CONFIG.TARGET_COLUMN] = data['loan_status'].map(loan_status_mapping)\n",
    "data.drop(columns=['loan_status', ], inplace=True)"
   ]
  },
  {
   "cell_type": "code",
   "execution_count": 11,
   "metadata": {},
   "outputs": [],
   "source": [
    "data['month_period'] = data['issue_d'].dt.to_period('M').astype(str)"
   ]
  },
  {
   "cell_type": "code",
   "execution_count": 12,
   "metadata": {},
   "outputs": [
    {
     "data": {
      "application/vnd.plotly.v1+json": {
       "config": {
        "plotlyServerURL": "https://plot.ly"
       },
       "data": [
        {
         "hovertemplate": "x=%{x}<br>y=%{y}<extra></extra>",
         "legendgroup": "",
         "line": {
          "color": "#636efa",
          "dash": "solid"
         },
         "marker": {
          "symbol": "circle"
         },
         "mode": "lines+markers",
         "name": "",
         "orientation": "v",
         "showlegend": false,
         "type": "scatter",
         "x": [
          "2016-01",
          "2016-02",
          "2016-03",
          "2016-04",
          "2016-05",
          "2016-06",
          "2016-07",
          "2016-08",
          "2016-09",
          "2016-10",
          "2016-11",
          "2016-12",
          "2017-01",
          "2017-02",
          "2017-03",
          "2017-04",
          "2017-05",
          "2017-06",
          "2017-07",
          "2017-08",
          "2017-09",
          "2017-10",
          "2017-11",
          "2017-12"
         ],
         "xaxis": "x",
         "y": {
          "bdata": "R8AeXlO1xz9txLr0mL/HP/Yx20g8Isg/HajUraD+xz+wgsEJEOTHPw/e88AuUMY/sPoz/3rZyD9q0zb9YpjIPyQWxPOLhsc/A0O+BjYHxT/tCDh8tkDGPxttk0uy0cY/J5/AjjQyxT/WiePWUiLFP8fYQVOOQ8Q/t23btm3bxD+zuf/lzTTFP0vJyGacZsQ/Som2r48kxD8l3EzU9XfDPyAaIgMhy8Q/47XdXip7wj+gTLRaNnLBP4raAaoMrsE/",
          "dtype": "f8"
         },
         "yaxis": "y2"
        },
        {
         "hovertemplate": "x=%{x}<br>y=%{y}<extra></extra>",
         "legendgroup": "",
         "marker": {
          "color": "#636efa",
          "opacity": 0.5,
          "pattern": {
           "shape": ""
          }
         },
         "name": "",
         "orientation": "v",
         "showlegend": false,
         "textposition": "auto",
         "type": "bar",
         "x": [
          "2016-01",
          "2016-02",
          "2016-03",
          "2016-04",
          "2016-05",
          "2016-06",
          "2016-07",
          "2016-08",
          "2016-09",
          "2016-10",
          "2016-11",
          "2016-12",
          "2017-01",
          "2017-02",
          "2017-03",
          "2017-04",
          "2017-05",
          "2017-06",
          "2017-07",
          "2017-08",
          "2017-09",
          "2017-10",
          "2017-11",
          "2017-12"
         ],
         "xaxis": "x",
         "y": {
          "bdata": "z3wAAIyXAAA/7AAA6IsAAD5sAABVgAAAhIcAAG6NAAA5bAAA+nsAABCBAABIhwAACHcAALhnAAAUigAAgGwAAGGKAABtigAAsowAAM+XAAAihAAANn8AAKKMAABlgAAA",
          "dtype": "i4"
         },
         "yaxis": "y"
        }
       ],
       "layout": {
        "template": {
         "data": {
          "bar": [
           {
            "error_x": {
             "color": "#2a3f5f"
            },
            "error_y": {
             "color": "#2a3f5f"
            },
            "marker": {
             "line": {
              "color": "#E5ECF6",
              "width": 0.5
             },
             "pattern": {
              "fillmode": "overlay",
              "size": 10,
              "solidity": 0.2
             }
            },
            "type": "bar"
           }
          ],
          "barpolar": [
           {
            "marker": {
             "line": {
              "color": "#E5ECF6",
              "width": 0.5
             },
             "pattern": {
              "fillmode": "overlay",
              "size": 10,
              "solidity": 0.2
             }
            },
            "type": "barpolar"
           }
          ],
          "carpet": [
           {
            "aaxis": {
             "endlinecolor": "#2a3f5f",
             "gridcolor": "white",
             "linecolor": "white",
             "minorgridcolor": "white",
             "startlinecolor": "#2a3f5f"
            },
            "baxis": {
             "endlinecolor": "#2a3f5f",
             "gridcolor": "white",
             "linecolor": "white",
             "minorgridcolor": "white",
             "startlinecolor": "#2a3f5f"
            },
            "type": "carpet"
           }
          ],
          "choropleth": [
           {
            "colorbar": {
             "outlinewidth": 0,
             "ticks": ""
            },
            "type": "choropleth"
           }
          ],
          "contour": [
           {
            "colorbar": {
             "outlinewidth": 0,
             "ticks": ""
            },
            "colorscale": [
             [
              0,
              "#0d0887"
             ],
             [
              0.1111111111111111,
              "#46039f"
             ],
             [
              0.2222222222222222,
              "#7201a8"
             ],
             [
              0.3333333333333333,
              "#9c179e"
             ],
             [
              0.4444444444444444,
              "#bd3786"
             ],
             [
              0.5555555555555556,
              "#d8576b"
             ],
             [
              0.6666666666666666,
              "#ed7953"
             ],
             [
              0.7777777777777778,
              "#fb9f3a"
             ],
             [
              0.8888888888888888,
              "#fdca26"
             ],
             [
              1,
              "#f0f921"
             ]
            ],
            "type": "contour"
           }
          ],
          "contourcarpet": [
           {
            "colorbar": {
             "outlinewidth": 0,
             "ticks": ""
            },
            "type": "contourcarpet"
           }
          ],
          "heatmap": [
           {
            "colorbar": {
             "outlinewidth": 0,
             "ticks": ""
            },
            "colorscale": [
             [
              0,
              "#0d0887"
             ],
             [
              0.1111111111111111,
              "#46039f"
             ],
             [
              0.2222222222222222,
              "#7201a8"
             ],
             [
              0.3333333333333333,
              "#9c179e"
             ],
             [
              0.4444444444444444,
              "#bd3786"
             ],
             [
              0.5555555555555556,
              "#d8576b"
             ],
             [
              0.6666666666666666,
              "#ed7953"
             ],
             [
              0.7777777777777778,
              "#fb9f3a"
             ],
             [
              0.8888888888888888,
              "#fdca26"
             ],
             [
              1,
              "#f0f921"
             ]
            ],
            "type": "heatmap"
           }
          ],
          "histogram": [
           {
            "marker": {
             "pattern": {
              "fillmode": "overlay",
              "size": 10,
              "solidity": 0.2
             }
            },
            "type": "histogram"
           }
          ],
          "histogram2d": [
           {
            "colorbar": {
             "outlinewidth": 0,
             "ticks": ""
            },
            "colorscale": [
             [
              0,
              "#0d0887"
             ],
             [
              0.1111111111111111,
              "#46039f"
             ],
             [
              0.2222222222222222,
              "#7201a8"
             ],
             [
              0.3333333333333333,
              "#9c179e"
             ],
             [
              0.4444444444444444,
              "#bd3786"
             ],
             [
              0.5555555555555556,
              "#d8576b"
             ],
             [
              0.6666666666666666,
              "#ed7953"
             ],
             [
              0.7777777777777778,
              "#fb9f3a"
             ],
             [
              0.8888888888888888,
              "#fdca26"
             ],
             [
              1,
              "#f0f921"
             ]
            ],
            "type": "histogram2d"
           }
          ],
          "histogram2dcontour": [
           {
            "colorbar": {
             "outlinewidth": 0,
             "ticks": ""
            },
            "colorscale": [
             [
              0,
              "#0d0887"
             ],
             [
              0.1111111111111111,
              "#46039f"
             ],
             [
              0.2222222222222222,
              "#7201a8"
             ],
             [
              0.3333333333333333,
              "#9c179e"
             ],
             [
              0.4444444444444444,
              "#bd3786"
             ],
             [
              0.5555555555555556,
              "#d8576b"
             ],
             [
              0.6666666666666666,
              "#ed7953"
             ],
             [
              0.7777777777777778,
              "#fb9f3a"
             ],
             [
              0.8888888888888888,
              "#fdca26"
             ],
             [
              1,
              "#f0f921"
             ]
            ],
            "type": "histogram2dcontour"
           }
          ],
          "mesh3d": [
           {
            "colorbar": {
             "outlinewidth": 0,
             "ticks": ""
            },
            "type": "mesh3d"
           }
          ],
          "parcoords": [
           {
            "line": {
             "colorbar": {
              "outlinewidth": 0,
              "ticks": ""
             }
            },
            "type": "parcoords"
           }
          ],
          "pie": [
           {
            "automargin": true,
            "type": "pie"
           }
          ],
          "scatter": [
           {
            "fillpattern": {
             "fillmode": "overlay",
             "size": 10,
             "solidity": 0.2
            },
            "type": "scatter"
           }
          ],
          "scatter3d": [
           {
            "line": {
             "colorbar": {
              "outlinewidth": 0,
              "ticks": ""
             }
            },
            "marker": {
             "colorbar": {
              "outlinewidth": 0,
              "ticks": ""
             }
            },
            "type": "scatter3d"
           }
          ],
          "scattercarpet": [
           {
            "marker": {
             "colorbar": {
              "outlinewidth": 0,
              "ticks": ""
             }
            },
            "type": "scattercarpet"
           }
          ],
          "scattergeo": [
           {
            "marker": {
             "colorbar": {
              "outlinewidth": 0,
              "ticks": ""
             }
            },
            "type": "scattergeo"
           }
          ],
          "scattergl": [
           {
            "marker": {
             "colorbar": {
              "outlinewidth": 0,
              "ticks": ""
             }
            },
            "type": "scattergl"
           }
          ],
          "scattermap": [
           {
            "marker": {
             "colorbar": {
              "outlinewidth": 0,
              "ticks": ""
             }
            },
            "type": "scattermap"
           }
          ],
          "scattermapbox": [
           {
            "marker": {
             "colorbar": {
              "outlinewidth": 0,
              "ticks": ""
             }
            },
            "type": "scattermapbox"
           }
          ],
          "scatterpolar": [
           {
            "marker": {
             "colorbar": {
              "outlinewidth": 0,
              "ticks": ""
             }
            },
            "type": "scatterpolar"
           }
          ],
          "scatterpolargl": [
           {
            "marker": {
             "colorbar": {
              "outlinewidth": 0,
              "ticks": ""
             }
            },
            "type": "scatterpolargl"
           }
          ],
          "scatterternary": [
           {
            "marker": {
             "colorbar": {
              "outlinewidth": 0,
              "ticks": ""
             }
            },
            "type": "scatterternary"
           }
          ],
          "surface": [
           {
            "colorbar": {
             "outlinewidth": 0,
             "ticks": ""
            },
            "colorscale": [
             [
              0,
              "#0d0887"
             ],
             [
              0.1111111111111111,
              "#46039f"
             ],
             [
              0.2222222222222222,
              "#7201a8"
             ],
             [
              0.3333333333333333,
              "#9c179e"
             ],
             [
              0.4444444444444444,
              "#bd3786"
             ],
             [
              0.5555555555555556,
              "#d8576b"
             ],
             [
              0.6666666666666666,
              "#ed7953"
             ],
             [
              0.7777777777777778,
              "#fb9f3a"
             ],
             [
              0.8888888888888888,
              "#fdca26"
             ],
             [
              1,
              "#f0f921"
             ]
            ],
            "type": "surface"
           }
          ],
          "table": [
           {
            "cells": {
             "fill": {
              "color": "#EBF0F8"
             },
             "line": {
              "color": "white"
             }
            },
            "header": {
             "fill": {
              "color": "#C8D4E3"
             },
             "line": {
              "color": "white"
             }
            },
            "type": "table"
           }
          ]
         },
         "layout": {
          "annotationdefaults": {
           "arrowcolor": "#2a3f5f",
           "arrowhead": 0,
           "arrowwidth": 1
          },
          "autotypenumbers": "strict",
          "coloraxis": {
           "colorbar": {
            "outlinewidth": 0,
            "ticks": ""
           }
          },
          "colorscale": {
           "diverging": [
            [
             0,
             "#8e0152"
            ],
            [
             0.1,
             "#c51b7d"
            ],
            [
             0.2,
             "#de77ae"
            ],
            [
             0.3,
             "#f1b6da"
            ],
            [
             0.4,
             "#fde0ef"
            ],
            [
             0.5,
             "#f7f7f7"
            ],
            [
             0.6,
             "#e6f5d0"
            ],
            [
             0.7,
             "#b8e186"
            ],
            [
             0.8,
             "#7fbc41"
            ],
            [
             0.9,
             "#4d9221"
            ],
            [
             1,
             "#276419"
            ]
           ],
           "sequential": [
            [
             0,
             "#0d0887"
            ],
            [
             0.1111111111111111,
             "#46039f"
            ],
            [
             0.2222222222222222,
             "#7201a8"
            ],
            [
             0.3333333333333333,
             "#9c179e"
            ],
            [
             0.4444444444444444,
             "#bd3786"
            ],
            [
             0.5555555555555556,
             "#d8576b"
            ],
            [
             0.6666666666666666,
             "#ed7953"
            ],
            [
             0.7777777777777778,
             "#fb9f3a"
            ],
            [
             0.8888888888888888,
             "#fdca26"
            ],
            [
             1,
             "#f0f921"
            ]
           ],
           "sequentialminus": [
            [
             0,
             "#0d0887"
            ],
            [
             0.1111111111111111,
             "#46039f"
            ],
            [
             0.2222222222222222,
             "#7201a8"
            ],
            [
             0.3333333333333333,
             "#9c179e"
            ],
            [
             0.4444444444444444,
             "#bd3786"
            ],
            [
             0.5555555555555556,
             "#d8576b"
            ],
            [
             0.6666666666666666,
             "#ed7953"
            ],
            [
             0.7777777777777778,
             "#fb9f3a"
            ],
            [
             0.8888888888888888,
             "#fdca26"
            ],
            [
             1,
             "#f0f921"
            ]
           ]
          },
          "colorway": [
           "#636efa",
           "#EF553B",
           "#00cc96",
           "#ab63fa",
           "#FFA15A",
           "#19d3f3",
           "#FF6692",
           "#B6E880",
           "#FF97FF",
           "#FECB52"
          ],
          "font": {
           "color": "#2a3f5f"
          },
          "geo": {
           "bgcolor": "white",
           "lakecolor": "white",
           "landcolor": "#E5ECF6",
           "showlakes": true,
           "showland": true,
           "subunitcolor": "white"
          },
          "hoverlabel": {
           "align": "left"
          },
          "hovermode": "closest",
          "mapbox": {
           "style": "light"
          },
          "paper_bgcolor": "white",
          "plot_bgcolor": "#E5ECF6",
          "polar": {
           "angularaxis": {
            "gridcolor": "white",
            "linecolor": "white",
            "ticks": ""
           },
           "bgcolor": "#E5ECF6",
           "radialaxis": {
            "gridcolor": "white",
            "linecolor": "white",
            "ticks": ""
           }
          },
          "scene": {
           "xaxis": {
            "backgroundcolor": "#E5ECF6",
            "gridcolor": "white",
            "gridwidth": 2,
            "linecolor": "white",
            "showbackground": true,
            "ticks": "",
            "zerolinecolor": "white"
           },
           "yaxis": {
            "backgroundcolor": "#E5ECF6",
            "gridcolor": "white",
            "gridwidth": 2,
            "linecolor": "white",
            "showbackground": true,
            "ticks": "",
            "zerolinecolor": "white"
           },
           "zaxis": {
            "backgroundcolor": "#E5ECF6",
            "gridcolor": "white",
            "gridwidth": 2,
            "linecolor": "white",
            "showbackground": true,
            "ticks": "",
            "zerolinecolor": "white"
           }
          },
          "shapedefaults": {
           "line": {
            "color": "#2a3f5f"
           }
          },
          "ternary": {
           "aaxis": {
            "gridcolor": "white",
            "linecolor": "white",
            "ticks": ""
           },
           "baxis": {
            "gridcolor": "white",
            "linecolor": "white",
            "ticks": ""
           },
           "bgcolor": "#E5ECF6",
           "caxis": {
            "gridcolor": "white",
            "linecolor": "white",
            "ticks": ""
           }
          },
          "title": {
           "x": 0.05
          },
          "xaxis": {
           "automargin": true,
           "gridcolor": "white",
           "linecolor": "white",
           "ticks": "",
           "title": {
            "standoff": 15
           },
           "zerolinecolor": "white",
           "zerolinewidth": 2
          },
          "yaxis": {
           "automargin": true,
           "gridcolor": "white",
           "linecolor": "white",
           "ticks": "",
           "title": {
            "standoff": 15
           },
           "zerolinecolor": "white",
           "zerolinewidth": 2
          }
         }
        },
        "title": {
         "text": "Overview"
        },
        "xaxis": {
         "anchor": "y",
         "domain": [
          0,
          0.94
         ]
        },
        "yaxis": {
         "anchor": "x",
         "domain": [
          0,
          1
         ],
         "title": {
          "text": "Count of loans"
         }
        },
        "yaxis2": {
         "anchor": "x",
         "overlaying": "y",
         "side": "right",
         "title": {
          "text": "Target"
         }
        }
       }
      }
     },
     "metadata": {},
     "output_type": "display_data"
    }
   ],
   "source": [
    "fig = make_subplots(specs=[[{\"secondary_y\": True, }, ], ])\n",
    "shape_df = data.groupby('month_period')[CONFIG.TARGET_COLUMN].count().reset_index()\n",
    "target_df = data.groupby('month_period')[CONFIG.TARGET_COLUMN].mean().reset_index()\n",
    "\n",
    "target_plot = px.line(x=target_df['month_period'], y=target_df[CONFIG.TARGET_COLUMN], markers=True, title='Target')\n",
    "shape_plot = px.bar(x=shape_df['month_period'], y=shape_df[CONFIG.TARGET_COLUMN], opacity=0.5, title='Shape')\n",
    "\n",
    "target_plot.update_traces(yaxis='y2')\n",
    "\n",
    "fig.add_traces(target_plot.data + shape_plot.data)\n",
    "fig.update_layout(title='Overview', yaxis=dict(title='Count of loans', ), yaxis2=dict(title='Target', ))\n",
    "\n",
    "fig.show()"
   ]
  },
  {
   "cell_type": "markdown",
   "metadata": {},
   "source": [
    "## Train/Test split"
   ]
  },
  {
   "cell_type": "code",
   "execution_count": 13,
   "metadata": {},
   "outputs": [],
   "source": [
    "dev_data = data[data['issue_d'] < '2017-01-01']\n",
    "oot_data = data[data['issue_d'] >= '2017-01-01']"
   ]
  },
  {
   "cell_type": "code",
   "execution_count": 14,
   "metadata": {},
   "outputs": [
    {
     "name": "stdout",
     "output_type": "stream",
     "text": [
      "Train DR: 0.1834, Test DR: 0.1834\n"
     ]
    }
   ],
   "source": [
    "train_data, test_data = train_test_split(dev_data, test_size=CONFIG.TEST_SIZE, random_state=CONFIG.RANDOM_STATE, stratify=dev_data[CONFIG.TARGET_COLUMN])\n",
    "print(f'Train DR: {round(train_data[CONFIG.TARGET_COLUMN].mean(), 4)}, Test DR: {round(test_data[CONFIG.TARGET_COLUMN].mean(), 4)}')"
   ]
  },
  {
   "cell_type": "code",
   "execution_count": 15,
   "metadata": {},
   "outputs": [],
   "source": [
    "CV_folds = list(StratifiedKFold(n_splits=CONFIG.N_FOLDS, shuffle=True, random_state=CONFIG.RANDOM_STATE).split(train_data, train_data[CONFIG.TARGET_COLUMN]))"
   ]
  },
  {
   "cell_type": "code",
   "execution_count": 16,
   "metadata": {},
   "outputs": [],
   "source": [
    "all_features = list(data.columns)\n",
    "all_features.remove(CONFIG.TARGET_COLUMN)\n",
    "all_features.remove('id')\n",
    "all_features.remove('month_period')\n",
    "all_features.remove('issue_d')\n",
    "all_features.remove('earliest_cr_line')\n",
    "all_features.remove('last_pymnt_d')\n",
    "all_features.remove('last_credit_pull_d')\n",
    "all_features.remove('revol_util%')\n",
    "all_features.remove('int_rate%')\n",
    "all_features.remove('sec_app_fico_range_low')\n",
    "all_features.remove('sec_app_fico_range_high')\n",
    "all_features.remove('sec_app_earliest_cr_line')\n",
    "all_features.remove('sec_app_inq_last_6mths')\n",
    "all_features.remove('sec_app_mort_acc')\n",
    "all_features.remove('sec_app_open_acc')\n",
    "all_features.remove('sec_app_revol_util')\n",
    "all_features.remove('sec_app_open_act_il')\n",
    "all_features.remove('sec_app_num_rev_accts')\n",
    "all_features.remove('sec_app_chargeoff_within_12_mths')\n",
    "all_features.remove('sec_app_collections_12_mths_ex_med')\n",
    "all_features.remove('revol_bal_joint')\n",
    "all_features.remove('policy_code')\n",
    "all_features.remove('application_type')\n",
    "all_features.remove('annual_inc_joint')\n",
    "all_features.remove('dti_joint')\n",
    "all_features.remove('verification_status_joint')\n",
    "all_features.remove('hardship_status')\n",
    "all_features.remove('deferral_term')\n",
    "all_features.remove('hardship_amount')\n",
    "all_features.remove('hardship_start_date')\n",
    "all_features.remove('hardship_end_date')\n",
    "all_features.remove('payment_plan_start_date')\n",
    "all_features.remove('hardship_length')\n",
    "all_features.remove('hardship_dpd')\n",
    "all_features.remove('hardship_loan_status')\n",
    "all_features.remove('orig_projected_additional_accrued_interest')\n",
    "all_features.remove('hardship_payoff_balance_amount')\n",
    "all_features.remove('hardship_last_payment_amount')\n",
    "all_features.remove('next_pymnt_d')\n",
    "all_features.remove('tax_liens')\n",
    "all_features.remove('hardship_flag')\n",
    "all_features.remove('hardship_type')\n",
    "all_features.remove('hardship_reason')\n",
    "all_features.remove('debt_settlement_flag')\n",
    "all_features.remove('last_fico_range_low')\n",
    "all_features.remove('last_fico_range_high')\n",
    "all_features.remove('last_pymnt_amnt')\n",
    "all_features.remove('total_rec_prncp')\n",
    "all_features.remove('recoveries')\n",
    "all_features.remove('collection_recovery_fee')\n"
   ]
  },
  {
   "cell_type": "markdown",
   "metadata": {},
   "source": [
    "# One-factor analysis"
   ]
  },
  {
   "cell_type": "code",
   "execution_count": 17,
   "metadata": {},
   "outputs": [
    {
     "data": {
      "application/vnd.jupyter.widget-view+json": {
       "model_id": "e717479be53c4c1881c0db7810ec1f6d",
       "version_major": 2,
       "version_minor": 0
      },
      "text/plain": [
       "  0%|          | 0/80 [00:00<?, ?it/s]"
      ]
     },
     "metadata": {},
     "output_type": "display_data"
    },
    {
     "data": {
      "application/vnd.jupyter.widget-view+json": {
       "model_id": "c1e748db948b40f5ae4d4bf0c1eb7489",
       "version_major": 2,
       "version_minor": 0
      },
      "text/plain": [
       "  0%|          | 0/80 [00:00<?, ?it/s]"
      ]
     },
     "metadata": {},
     "output_type": "display_data"
    },
    {
     "data": {
      "application/vnd.jupyter.widget-view+json": {
       "model_id": "2bc4a253d5dc44e9847cd091560146a3",
       "version_major": 2,
       "version_minor": 0
      },
      "text/plain": [
       "  0%|          | 0/80 [00:00<?, ?it/s]"
      ]
     },
     "metadata": {},
     "output_type": "display_data"
    },
    {
     "data": {
      "application/vnd.jupyter.widget-view+json": {
       "model_id": "aa322b1f2746418b97826910dced46a3",
       "version_major": 2,
       "version_minor": 0
      },
      "text/plain": [
       "  0%|          | 0/80 [00:00<?, ?it/s]"
      ]
     },
     "metadata": {},
     "output_type": "display_data"
    },
    {
     "data": {
      "application/vnd.jupyter.widget-view+json": {
       "model_id": "cb96964b5b52422fbf35974a1e5f4c94",
       "version_major": 2,
       "version_minor": 0
      },
      "text/plain": [
       "  0%|          | 0/80 [00:00<?, ?it/s]"
      ]
     },
     "metadata": {},
     "output_type": "display_data"
    }
   ],
   "source": [
    "stats_df = pd.DataFrame()\n",
    "iv_dict = {feature: 0 for feature in all_features}\n",
    "imp_dict = {feature: 0 for feature in all_features}\n",
    "\n",
    "for train_idx, val_idx in CV_folds:\n",
    "    for feature in tqdm(all_features):\n",
    "        model = LGBMClassifier(max_depth=3, importance_type='gain', n_estimators=1, random_state=CONFIG.RANDOM_STATE, verbose=-1, n_jobs=16, boosting_type='gbdt')\n",
    "        model.fit(train_data[ [feature, ] ].iloc[train_idx], train_data[CONFIG.TARGET_COLUMN].iloc[train_idx])\n",
    "        imp_dict[feature] += model.booster_.feature_importance(importance_type='gain')\n",
    "        if train_data[feature].count() > 0:\n",
    "            if train_data[feature].dtype in ['object', 'category']:\n",
    "                optb = OptimalBinning(name=feature, dtype=\"categorical\", min_prebin_size=0.05, monotonic_trend='auto_asc_desc', solver=\"cp\", divergence=\"iv\")\n",
    "            else:\n",
    "                optb = OptimalBinning(name=feature, dtype=\"numerical\", min_prebin_size=0.05, monotonic_trend='auto_asc_desc', solver=\"cp\", divergence=\"iv\")\n",
    "        \n",
    "        optb.fit(train_data[feature].iloc[train_idx], train_data[CONFIG.TARGET_COLUMN].iloc[train_idx])\n",
    "        x_bins = optb.splits\n",
    "        \n",
    "        if len(x_bins) > 0:\n",
    "            if train_data[feature].dtype in ['object', 'category']:\n",
    "                optb_cv = OptimalBinning(name=feature, dtype=\"categorical\", min_prebin_size=0.05, monotonic_trend='auto_asc_desc', solver=\"cp\", divergence=\"iv\", user_splits=x_bins)\n",
    "            else:\n",
    "                optb_cv = OptimalBinning(name=feature, dtype=\"numerical\", min_prebin_size=0.05, monotonic_trend='auto_asc_desc', solver=\"cp\", divergence=\"iv\", user_splits=x_bins)\n",
    "            optb_cv.fit(train_data[feature].iloc[val_idx], train_data[CONFIG.TARGET_COLUMN].iloc[val_idx])\n",
    "            iv_dict[feature] += optb_cv.binning_table.build()['IV'].loc['Totals']\n",
    "        else:\n",
    "            iv_dict[feature] += 0\n",
    "\n",
    "iv_dict = {f: iv_dict[f] / CONFIG.N_FOLDS for f in all_features}\n",
    "imp_dict = {f: imp_dict[f] / CONFIG.N_FOLDS for f in all_features}\n",
    "\n",
    "stats_df = pd.DataFrame(index=all_features)\n",
    "for feature in all_features:\n",
    "    stats_df.loc[feature, 'imp'] = imp_dict[feature]\n",
    "    stats_df.loc[feature, 'iv'] = iv_dict[feature] "
   ]
  },
  {
   "cell_type": "code",
   "execution_count": 18,
   "metadata": {},
   "outputs": [],
   "source": [
    "tmp_features_to_analyze = list(stats_df[(stats_df['iv'] > stats_df['iv'].quantile(0.5)) & (stats_df['imp'] > stats_df['imp'].quantile(0.5))].index)"
   ]
  },
  {
   "cell_type": "code",
   "execution_count": 19,
   "metadata": {},
   "outputs": [
    {
     "data": {
      "application/vnd.jupyter.widget-view+json": {
       "model_id": "500ce00623ed4d3fb5d5ac0db5677f81",
       "version_major": 2,
       "version_minor": 0
      },
      "text/plain": [
       "  0%|          | 0/39 [00:00<?, ?it/s]"
      ]
     },
     "metadata": {},
     "output_type": "display_data"
    },
    {
     "data": {
      "application/vnd.jupyter.widget-view+json": {
       "model_id": "7337d2570a714eb1ba7f6ea7b2a1143e",
       "version_major": 2,
       "version_minor": 0
      },
      "text/plain": [
       "  0%|          | 0/39 [00:00<?, ?it/s]"
      ]
     },
     "metadata": {},
     "output_type": "display_data"
    }
   ],
   "source": [
    "resp_dict_psi = {}\n",
    "for col in tqdm(tmp_features_to_analyze):\n",
    "    resp_dict_psi[col] = custom_psi_check(data[[col, 'month_period']], col)\n",
    "\n",
    "to_delete_by_psi = []\n",
    "for col in tqdm(tmp_features_to_analyze):\n",
    "    if np.quantile(resp_dict_psi[col], 0.75) > 0.2:\n",
    "        to_delete_by_psi.append(col)\n",
    "\n",
    "for col in to_delete_by_psi:\n",
    "    tmp_features_to_analyze.remove(col)"
   ]
  },
  {
   "cell_type": "code",
   "execution_count": 20,
   "metadata": {},
   "outputs": [],
   "source": [
    "pearson_corr_df = check_corr(train_data[tmp_features_to_analyze], mode='pearson')\n",
    "spearman_corr_df = check_corr(train_data[tmp_features_to_analyze], mode='spearman')\n",
    "cramer_v_df = check_corr(train_data[tmp_features_to_analyze], mode='cramer_v')\n",
    "\n",
    "pearson_corr_df.to_csv('artifacts/pearson_corr_df.csv')\n",
    "spearman_corr_df.to_csv('artifacts/spearman_corr_df.csv')\n",
    "cramer_v_df.to_csv('artifacts/cramer_v_df.csv')"
   ]
  },
  {
   "cell_type": "code",
   "execution_count": 21,
   "metadata": {},
   "outputs": [],
   "source": [
    "X = train_data[tmp_features_to_analyze].copy()"
   ]
  },
  {
   "cell_type": "code",
   "execution_count": 22,
   "metadata": {},
   "outputs": [
    {
     "data": {
      "application/vnd.jupyter.widget-view+json": {
       "model_id": "8b6245bc25d4478abffa4078ae2a5a5c",
       "version_major": 2,
       "version_minor": 0
      },
      "text/plain": [
       "0it [00:00, ?it/s]"
      ]
     },
     "metadata": {},
     "output_type": "display_data"
    }
   ],
   "source": [
    "reward_dict = {feature: 0 for feature in tmp_features_to_analyze}\n",
    "\n",
    "def mape(x, y):\n",
    "    return np.abs(x - y) / max(x, y)\n",
    "\n",
    "for (x, X), (y, Y) in tqdm(combinations(X.items(), 2)):\n",
    "    x_iv = stats_df.loc[x, 'iv']\n",
    "    y_iv = stats_df.loc[y, 'iv']\n",
    "    \n",
    "    x_imp = stats_df.loc[x, 'imp']\n",
    "    y_imp = stats_df.loc[y, 'imp']\n",
    "\n",
    "    voting_x = pd.Series([y_iv < x_iv, y_imp < x_imp])\n",
    "    voting_y = pd.Series([x_iv < y_iv, x_imp < y_imp])\n",
    "\n",
    "    reward = pd.Series([mape(x_iv, y_iv), mape(x_imp, y_imp)])\n",
    "\n",
    "    reward_dict[x] += np.sum(voting_x * reward)\n",
    "    reward_dict[y] += np.sum(voting_y * reward)\n",
    "\n",
    "M = len(tmp_features_to_analyze)\n",
    "for feature in tmp_features_to_analyze:\n",
    "    reward_dict[feature] /= (M - 1)"
   ]
  },
  {
   "cell_type": "code",
   "execution_count": 23,
   "metadata": {},
   "outputs": [],
   "source": [
    "X = train_data[tmp_features_to_analyze].copy()"
   ]
  },
  {
   "cell_type": "code",
   "execution_count": 24,
   "metadata": {},
   "outputs": [
    {
     "data": {
      "application/vnd.jupyter.widget-view+json": {
       "model_id": "d06bdfc1efa442f4a18f0a079a902431",
       "version_major": 2,
       "version_minor": 0
      },
      "text/plain": [
       "0it [00:00, ?it/s]"
      ]
     },
     "metadata": {},
     "output_type": "display_data"
    }
   ],
   "source": [
    "to_drop_by_strength = set()\n",
    "\n",
    "for (x, X), (y, Y) in tqdm(combinations(X.items(), 2)):\n",
    "    if pd.api.types.is_numeric_dtype(X) and pd.api.types.is_numeric_dtype(Y):\n",
    "        if (abs(pearson_corr_df.loc[x, y]) >= 0.5) or (abs(spearman_corr_df.loc[x, y]) >= 0.5):\n",
    "            if reward_dict[x] > reward_dict[y]:\n",
    "                to_drop_by_strength.add(y)\n",
    "            else:\n",
    "                to_drop_by_strength.add(x)\n",
    "\n",
    "    if pd.api.types.is_categorical_dtype(X) and pd.api.types.is_categorical_dtype(Y):\n",
    "        if cramer_v_df.loc[x, y] >= 0.5:\n",
    "            if reward_dict[x] > reward_dict[y]:\n",
    "                to_drop_by_strength.add(y)\n",
    "            else:\n",
    "                to_drop_by_strength.add(x)\n",
    "\n",
    "for feature in to_drop_by_strength:\n",
    "    tmp_features_to_analyze.remove(feature)\n"
   ]
  },
  {
   "cell_type": "markdown",
   "metadata": {},
   "source": [
    "# Modeling"
   ]
  },
  {
   "cell_type": "code",
   "execution_count": 25,
   "metadata": {},
   "outputs": [],
   "source": [
    "X_train, y_train = train_data[tmp_features_to_analyze].copy(), train_data[CONFIG.TARGET_COLUMN].copy()\n",
    "\n",
    "lgbm_fi_df = pd.DataFrame()\n",
    "shap_fi_df = pd.DataFrame()"
   ]
  },
  {
   "cell_type": "code",
   "execution_count": 26,
   "metadata": {},
   "outputs": [],
   "source": [
    "const_params = {\n",
    "    'metric': 'auc',\n",
    "    'boosting_type': 'gbdt',\n",
    "    'extra_seed': CONFIG.RANDOM_STATE,\n",
    "    'drop_seed': CONFIG.RANDOM_STATE,\n",
    "    'random_state': CONFIG.RANDOM_STATE,\n",
    "    'n_jobs': -1,\n",
    "    'verbosity': -1,\n",
    "    'deterministic': True,\n",
    "    'force_col_wise': True,\n",
    "    'n_estimators': 1000,\n",
    "    'learning_rate': 0.05,\n",
    "    'importance_type': 'gain',\n",
    "}"
   ]
  },
  {
   "cell_type": "code",
   "execution_count": 27,
   "metadata": {},
   "outputs": [],
   "source": [
    "def objective_logloss(trial):\n",
    "    global lgbm_fi_df, shap_fi_df\n",
    "\n",
    "    dist_params = {\n",
    "        'num_leaves': trial.suggest_int('num_leaves', 7, 24),\n",
    "        'colsample_bytree': trial.suggest_float('colsample_bytree', 0.5, 1.0),\n",
    "        'subsample': trial.suggest_float('subsample', 0.5, 1.0),\n",
    "        'reg_alpha': trial.suggest_float('reg_alpha', 1e-8, 10.0, log=True),\n",
    "        'reg_lambda': trial.suggest_float('reg_lambda', 1e-8, 10.0, log=True),\n",
    "        'cat_l2': trial.suggest_float('cat_l2', 1e-3, 100.0, log=True),\n",
    "        'cat_smooth': trial.suggest_float('cat_smooth', 1e-3, 100.0, log=True),\n",
    "    }\n",
    "\n",
    "    unified_params = const_params | dist_params\n",
    "    unified_params['objective'] = 'binary'\n",
    "\n",
    "    auc_dict = {'train': [], 'val': []}\n",
    "\n",
    "    for train_idx, val_idx in CV_folds:\n",
    "        model = LGBMClassifier(**unified_params)\n",
    "        model.fit(\n",
    "            X_train.iloc[train_idx], \n",
    "            y_train.iloc[train_idx],\n",
    "            eval_set=[(X_train.iloc[val_idx], y_train.iloc[val_idx])],\n",
    "            eval_metric='auc',\n",
    "            eval_names='val',\n",
    "        )\n",
    "\n",
    "        gain_importance = pd.DataFrame(np.array([list(model.feature_importances_), ]), columns=model.feature_name_)\n",
    "        # shap_importance = pd.DataFrame(np.array([list(_shap_importances(model, X_train.iloc[val_idx])), ]), columns=model.feature_name_)\n",
    "\n",
    "        lgbm_fi_df = pd.concat([lgbm_fi_df, gain_importance])\n",
    "        # shap_fi_df = pd.concat([shap_fi_df, shap_importance])\n",
    "\n",
    "        auc_dict['val'].append(np.mean(model.evals_result_['val']['auc']))\n",
    "\n",
    "        print(f'AUC val: {round(np.mean(model.evals_result_[\"val\"][\"auc\"]), 4)}')\n",
    "\n",
    "    model = LGBMClassifier(**unified_params)\n",
    "    model.fit(\n",
    "        X_train,\n",
    "        y_train\n",
    "    )\n",
    "    \n",
    "    y_pred = model.predict_proba(X_train)[:, 1]\n",
    "\n",
    "    gini_train = 2 * roc_auc_score(y_train, y_pred) - 1\n",
    "    gini_val = 2 * np.mean(auc_dict['val']) - 1\n",
    "    \n",
    "    print(f'Gini train: {round(gini_train, 4)}, Gini val: {round(gini_val, 4)}')\n",
    "\n",
    "    return (1 - gini_val) + 5 * abs(gini_val - gini_train)"
   ]
  },
  {
   "cell_type": "code",
   "execution_count": 28,
   "metadata": {},
   "outputs": [
    {
     "name": "stderr",
     "output_type": "stream",
     "text": [
      "[I 2025-05-12 03:32:09,060] A new study created in memory with name: lgbm_logloss\n"
     ]
    },
    {
     "name": "stdout",
     "output_type": "stream",
     "text": [
      "AUC val: 0.8091\n",
      "AUC val: 0.8087\n",
      "AUC val: 0.806\n",
      "AUC val: 0.8106\n",
      "AUC val: 0.8088\n"
     ]
    },
    {
     "name": "stderr",
     "output_type": "stream",
     "text": [
      "[I 2025-05-12 03:33:16,156] Trial 0 finished with value: 0.5454666336707223 and parameters: {'num_leaves': 13, 'colsample_bytree': 0.9753571532049581, 'subsample': 0.8659969709057025, 'reg_alpha': 0.0024430162614261434, 'reg_lambda': 2.5361081166471375e-07, 'cat_l2': 0.0060252157362038605, 'cat_smooth': 0.0019517224641449498}. Best is trial 0 with value: 0.5454666336707223.\n"
     ]
    },
    {
     "name": "stdout",
     "output_type": "stream",
     "text": [
      "Gini train: 0.6499, Gini val: 0.6173\n",
      "AUC val: 0.8106\n",
      "AUC val: 0.8105\n",
      "AUC val: 0.8079\n",
      "AUC val: 0.812\n",
      "AUC val: 0.8104\n"
     ]
    },
    {
     "name": "stderr",
     "output_type": "stream",
     "text": [
      "[I 2025-05-12 03:34:39,567] Trial 1 finished with value: 0.5875098024574263 and parameters: {'num_leaves': 22, 'colsample_bytree': 0.8005575058716043, 'subsample': 0.8540362888980227, 'reg_alpha': 1.5320059381854043e-08, 'reg_lambda': 5.3602947287282925, 'cat_l2': 14.528246637516036, 'cat_smooth': 0.011526449540315618}. Best is trial 0 with value: 0.5454666336707223.\n"
     ]
    },
    {
     "name": "stdout",
     "output_type": "stream",
     "text": [
      "Gini train: 0.6622, Gini val: 0.6205\n",
      "AUC val: 0.8082\n",
      "AUC val: 0.8077\n",
      "AUC val: 0.8051\n",
      "AUC val: 0.8099\n",
      "AUC val: 0.8081\n"
     ]
    },
    {
     "name": "stderr",
     "output_type": "stream",
     "text": [
      "[I 2025-05-12 03:35:36,289] Trial 2 finished with value: 0.5056675583810986 and parameters: {'num_leaves': 10, 'colsample_bytree': 0.5917022549267169, 'subsample': 0.6521211214797689, 'reg_alpha': 0.00052821153945323, 'reg_lambda': 7.71800699380605e-05, 'cat_l2': 0.028585493941961918, 'cat_smooth': 1.1462107403425035}. Best is trial 2 with value: 0.5056675583810986.\n"
     ]
    },
    {
     "name": "stdout",
     "output_type": "stream",
     "text": [
      "Gini train: 0.6399, Gini val: 0.6156\n",
      "AUC val: 0.8079\n",
      "AUC val: 0.8075\n",
      "AUC val: 0.805\n",
      "AUC val: 0.8097\n",
      "AUC val: 0.8078\n"
     ]
    },
    {
     "name": "stderr",
     "output_type": "stream",
     "text": [
      "[I 2025-05-12 03:36:33,374] Trial 3 finished with value: 0.4968607797697424 and parameters: {'num_leaves': 9, 'colsample_bytree': 0.6460723242676091, 'subsample': 0.6831809216468459, 'reg_alpha': 0.00012724181576752517, 'reg_lambda': 0.11656915613247415, 'cat_l2': 0.009962513222055111, 'cat_smooth': 0.3725393839578886}. Best is trial 3 with value: 0.4968607797697424.\n"
     ]
    },
    {
     "name": "stdout",
     "output_type": "stream",
     "text": [
      "Gini train: 0.6376, Gini val: 0.6152\n",
      "AUC val: 0.8094\n",
      "AUC val: 0.8094\n",
      "AUC val: 0.8066\n",
      "AUC val: 0.811\n",
      "AUC val: 0.8094\n"
     ]
    },
    {
     "name": "stderr",
     "output_type": "stream",
     "text": [
      "[I 2025-05-12 03:37:37,961] Trial 4 finished with value: 0.5664264888308088 and parameters: {'num_leaves': 17, 'colsample_bytree': 0.5232252063599989, 'subsample': 0.8037724259507192, 'reg_alpha': 3.425445902633376e-07, 'reg_lambda': 3.850031979199519e-08, 'cat_l2': 55.51721685244726, 'cat_smooth': 67.32248920775338}. Best is trial 3 with value: 0.4968607797697424.\n"
     ]
    },
    {
     "name": "stdout",
     "output_type": "stream",
     "text": [
      "Gini train: 0.6553, Gini val: 0.6183\n",
      "AUC val: 0.8101\n",
      "AUC val: 0.8101\n",
      "AUC val: 0.8074\n",
      "AUC val: 0.8116\n",
      "AUC val: 0.8101\n"
     ]
    },
    {
     "name": "stderr",
     "output_type": "stream",
     "text": [
      "[I 2025-05-12 03:38:48,723] Trial 5 finished with value: 0.6150876936119847 and parameters: {'num_leaves': 21, 'colsample_bytree': 0.6523068845866853, 'subsample': 0.5488360570031919, 'reg_alpha': 0.01439120761572808, 'reg_lambda': 9.148975058772307e-05, 'cat_l2': 0.00407559644007287, 'cat_smooth': 0.2991469302130216}. Best is trial 3 with value: 0.4968607797697424.\n"
     ]
    },
    {
     "name": "stdout",
     "output_type": "stream",
     "text": [
      "Gini train: 0.6667, Gini val: 0.6197\n",
      "AUC val: 0.8071\n",
      "AUC val: 0.8065\n",
      "AUC val: 0.8039\n",
      "AUC val: 0.8086\n",
      "AUC val: 0.8068\n"
     ]
    },
    {
     "name": "stderr",
     "output_type": "stream",
     "text": [
      "[I 2025-05-12 03:39:46,370] Trial 6 finished with value: 0.48414585908226915 and parameters: {'num_leaves': 7, 'colsample_bytree': 0.954660201039391, 'subsample': 0.6293899908000085, 'reg_alpha': 0.009176996354542699, 'reg_lambda': 6.388511557344611e-06, 'cat_l2': 0.3984190594434688, 'cat_smooth': 0.5414413211338525}. Best is trial 6 with value: 0.48414585908226915.\n"
     ]
    },
    {
     "name": "stdout",
     "output_type": "stream",
     "text": [
      "Gini train: 0.6326, Gini val: 0.6132\n",
      "AUC val: 0.8088\n",
      "AUC val: 0.808\n",
      "AUC val: 0.8057\n",
      "AUC val: 0.8102\n",
      "AUC val: 0.8084\n"
     ]
    },
    {
     "name": "stderr",
     "output_type": "stream",
     "text": [
      "[I 2025-05-12 03:40:48,062] Trial 7 finished with value: 0.4984275653579118 and parameters: {'num_leaves': 10, 'colsample_bytree': 0.9847923138822793, 'subsample': 0.8875664116805573, 'reg_alpha': 2.8542399074977594, 'reg_lambda': 1.1309571585271492, 'cat_l2': 0.9761125443110454, 'cat_smooth': 40.67908494359547}. Best is trial 6 with value: 0.48414585908226915.\n"
     ]
    },
    {
     "name": "stdout",
     "output_type": "stream",
     "text": [
      "Gini train: 0.6395, Gini val: 0.6165\n",
      "AUC val: 0.8075\n",
      "AUC val: 0.807\n",
      "AUC val: 0.8044\n",
      "AUC val: 0.8091\n",
      "AUC val: 0.8072\n"
     ]
    },
    {
     "name": "stderr",
     "output_type": "stream",
     "text": [
      "[I 2025-05-12 03:41:41,649] Trial 8 finished with value: 0.4886484412210448 and parameters: {'num_leaves': 8, 'colsample_bytree': 0.5979914312095727, 'subsample': 0.522613644455269, 'reg_alpha': 8.471746987003668e-06, 'reg_lambda': 3.148441347423712e-05, 'cat_l2': 0.022737628102536857, 'cat_smooth': 13.921548533046499}. Best is trial 6 with value: 0.48414585908226915.\n"
     ]
    },
    {
     "name": "stdout",
     "output_type": "stream",
     "text": [
      "Gini train: 0.6346, Gini val: 0.6141\n",
      "AUC val: 0.809\n",
      "AUC val: 0.8089\n",
      "AUC val: 0.8063\n",
      "AUC val: 0.8106\n",
      "AUC val: 0.8088\n"
     ]
    },
    {
     "name": "stderr",
     "output_type": "stream",
     "text": [
      "[I 2025-05-12 03:42:41,883] Trial 9 finished with value: 0.5347042739418595 and parameters: {'num_leaves': 13, 'colsample_bytree': 0.6404672548436904, 'subsample': 0.7713480415791243, 'reg_alpha': 1.8548894229694903e-07, 'reg_lambda': 0.16587190283399628, 'cat_l2': 0.0023591373063477136, 'cat_smooth': 85.98737339212276}. Best is trial 6 with value: 0.48414585908226915.\n"
     ]
    },
    {
     "name": "stdout",
     "output_type": "stream",
     "text": [
      "Gini train: 0.6479, Gini val: 0.6175\n"
     ]
    }
   ],
   "source": [
    "sampler = optuna.samplers.TPESampler(seed=CONFIG.RANDOM_STATE)\n",
    "study = optuna.create_study(\n",
    "    direction='minimize',\n",
    "    pruner=optuna.pruners.HyperbandPruner(min_resource=10),\n",
    "    sampler=sampler,\n",
    "    study_name='lgbm_logloss'\n",
    ")\n",
    "study.optimize(objective_logloss, n_trials=10)"
   ]
  },
  {
   "cell_type": "code",
   "execution_count": 30,
   "metadata": {},
   "outputs": [
    {
     "name": "stdout",
     "output_type": "stream",
     "text": [
      "0.804767618642444\n"
     ]
    }
   ],
   "source": [
    "best_params = study.best_params | const_params\n",
    "\n",
    "model = LGBMClassifier(**best_params)\n",
    "model.fit(\n",
    "    X_train,\n",
    "    y_train\n",
    ")\n",
    "\n",
    "print(roc_auc_score(oot_data[CONFIG.TARGET_COLUMN], model.predict_proba(oot_data[tmp_features_to_analyze])[:, 1]))"
   ]
  },
  {
   "cell_type": "code",
   "execution_count": null,
   "metadata": {},
   "outputs": [],
   "source": []
  }
 ],
 "metadata": {
  "kernelspec": {
   "display_name": "venv",
   "language": "python",
   "name": "python3"
  },
  "language_info": {
   "codemirror_mode": {
    "name": "ipython",
    "version": 3
   },
   "file_extension": ".py",
   "mimetype": "text/x-python",
   "name": "python",
   "nbconvert_exporter": "python",
   "pygments_lexer": "ipython3",
   "version": "3.11.12"
  }
 },
 "nbformat": 4,
 "nbformat_minor": 2
}
